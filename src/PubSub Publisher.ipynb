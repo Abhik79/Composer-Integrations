{
 "cells": [
  {
   "cell_type": "code",
   "execution_count": 1,
   "id": "421adb16-67b5-4535-984b-917527fcea0a",
   "metadata": {},
   "outputs": [],
   "source": [
    "import os\n",
    "from google.oauth2 import service_account\n",
    "\n",
    "# Set the path to your service account key file\n",
    "os.environ[\"GOOGLE_APPLICATION_CREDENTIALS\"] = \"../auth/sample_key.json\"\n",
    "\n",
    "# Authenticate using the service account\n",
    "credentials = service_account.Credentials.from_service_account_file(\n",
    "    \"../auth/coastal-throne-433510-a5-9d8c4d581c73.json\"\n",
    ")"
   ]
  },
  {
   "cell_type": "code",
   "execution_count": 14,
   "id": "4defd65b-3e75-42a0-9581-b49c00fa410e",
   "metadata": {},
   "outputs": [
    {
     "name": "stdout",
     "output_type": "stream",
     "text": [
      "Message being published: {\n",
      "  \"sp_name\": \"sp_table_snapshots\"\n",
      "}\n",
      "Published message ID: 12423245262718610\n"
     ]
    }
   ],
   "source": [
    "from google.cloud import pubsub_v1\n",
    "import json\n",
    "\n",
    "# Define your GCP project ID and topic name\n",
    "project_id = \"coastal-throne-433510-a5\"\n",
    "topic_id = \"Airflow-Bigquery-SP-Trigger\"\n",
    "\n",
    "# Initialize a Publisher client\n",
    "publisher = pubsub_v1.PublisherClient()\n",
    "topic_path = publisher.topic_path(project_id, topic_id)\n",
    "\n",
    "# Create the message with the SP name\n",
    "message = {\n",
    "    \"sp_name\": \"sp_table_snapshots\"  # Change this to \"sp_dynamic_pivot\" for the other SP\n",
    "}\n",
    "\n",
    "# Convert the message to a JSON string\n",
    "message_data = json.dumps(message).encode(\"utf-8\")\n",
    "\n",
    "# Display the message being published\n",
    "print(f\"Message being published: {json.dumps(message, indent=2)}\")\n",
    "\n",
    "# Publish the message to the topic\n",
    "future = publisher.publish(topic_path, message_data)\n",
    "print(f\"Published message ID: {future.result()}\")\n"
   ]
  },
  {
   "cell_type": "code",
   "execution_count": null,
   "id": "32302433-0b6a-49b8-bb9d-6e26502a47f4",
   "metadata": {},
   "outputs": [],
   "source": []
  }
 ],
 "metadata": {
  "kernelspec": {
   "display_name": "Python 3 (ipykernel)",
   "language": "python",
   "name": "python3"
  },
  "language_info": {
   "codemirror_mode": {
    "name": "ipython",
    "version": 3
   },
   "file_extension": ".py",
   "mimetype": "text/x-python",
   "name": "python",
   "nbconvert_exporter": "python",
   "pygments_lexer": "ipython3",
   "version": "3.11.9"
  }
 },
 "nbformat": 4,
 "nbformat_minor": 5
}
